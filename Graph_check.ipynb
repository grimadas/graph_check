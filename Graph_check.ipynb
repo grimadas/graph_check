{
 "cells": [
  {
   "cell_type": "code",
   "execution_count": 1,
   "metadata": {},
   "outputs": [
    {
     "name": "stdout",
     "output_type": "stream",
     "text": [
      "Populating the interactive namespace from numpy and matplotlib\n"
     ]
    }
   ],
   "source": [
    "%pylab inline"
   ]
  },
  {
   "cell_type": "code",
   "execution_count": 16,
   "metadata": {
    "collapsed": true
   },
   "outputs": [],
   "source": [
    "import networkx as nx\n",
    "from collections import defaultdict\n",
    "from time import time\n",
    "from itertools import combinations_with_replacement"
   ]
  },
  {
   "cell_type": "code",
   "execution_count": 29,
   "metadata": {
    "collapsed": true
   },
   "outputs": [],
   "source": [
    "def find_all_argmax(in_dict):\n",
    "    precision = 1000\n",
    "    tmp_dict = defaultdict(set)\n",
    "    for key, value in in_dict.items():\n",
    "        new_val = int(value*precision)\n",
    "        tmp_dict[new_val].add(key)\n",
    "    max_val = max(tmp_dict)\n",
    "    return tmp_dict[max_val]\n",
    "\n",
    "def find_graph(graph_size, num_of_metrics):\n",
    "    G_classes = []\n",
    "    if (graph_size > 9):\n",
    "        if (graph_size > 11):\n",
    "            M = 100000\n",
    "            n = graph_size\n",
    "            mu, sigma = (n+1)/(n*(n-1)/2.0), 0.01 # mean and standard deviation\n",
    "            s = np.random.normal(mu, sigma, M)\n",
    "            print(\"Generating graphs\")\n",
    "            for k in range(M):\n",
    "\n",
    "                if s[k] >= 1 or s[k] <= 0:\n",
    "                    G_1 = nx.erdos_renyi_graph(graph_size,0.1)\n",
    "                else:\n",
    "                    G_1 = nx.erdos_renyi_graph(graph_size,s[k])\n",
    "                G_classes.append(G_1)\n",
    "        else:\n",
    "            print(\"Generating with degree distibution\")\n",
    "            t1 = time()\n",
    "            n = graph_size\n",
    "            for max_deg in range(2, n):\n",
    "               \n",
    "                #max_deg = n-3\n",
    "                p2 = combinations_with_replacement(range(0, max_deg), n-1)\n",
    "                for degs in p2:\n",
    "                    if nx.is_valid_degree_sequence([max_deg]+list(degs)):\n",
    "                        try:\n",
    "                            G_classes.append(nx.expected_degree_graph([max_deg]+list(degs),selfloops=False))\n",
    "                        except:\n",
    "                            continue\n",
    "            print(\"Generation finished in \", time()-t1)\n",
    "                    \n",
    "            \n",
    "    else:\n",
    "        read_graph_path = \"HomoGraphs/graph\"+str(graph_size)+\".g6\" \n",
    "        t1 = time()\n",
    "        G_classes = nx.read_graph6(read_graph_path)\n",
    "        print(\"Graph reading time \", time()-t1)\n",
    "    print(\"Runing graphs \", len(G_classes))  \n",
    "    for G in G_classes:\n",
    "        t1 = time()\n",
    "        metrics = num_of_metrics\n",
    "        if (G.number_of_selfloops()>0):\n",
    "            print(\"Graph has selfloops!\")\n",
    "            continue\n",
    "        max_deg_vertices = find_all_argmax(G.degree())\n",
    "        #print(\"Degree calc time \", time()-t1)\n",
    "        if len(max_deg_vertices) > 1:\n",
    "            continue\n",
    "        metrics -=1\n",
    "            \n",
    "         # Harmonic centrality \n",
    "        t1 = time()\n",
    "        max_harm = find_all_argmax(nx.harmonic_centrality(G))\n",
    "        #print(\"Harm calc time \", time()-t1)\n",
    "        if len(max_harm) > 1 or len(max_deg_vertices & max_harm)>0:\n",
    "            continue\n",
    "        metrics -=1\n",
    "\n",
    "        if (metrics == 0):\n",
    "            return G\n",
    "\n",
    "        # -- Betweenes centrality \n",
    "        t1 = time()\n",
    "        max_betw = find_all_argmax(nx.betweenness_centrality(G))\n",
    "        #print(\"Betweenes calc time \", time()-t1)\n",
    "        #print(\"Edges \", G.number_of_edges())\n",
    "        if len(max_betw) > 1 or len(max_betw & max_deg_vertices)>0 or len(max_betw & max_harm)>0:\n",
    "            continue\n",
    "        metrics -=1\n",
    "\n",
    "        if (metrics == 0):\n",
    "            return G\n",
    "            \n",
    "         # -- Eigen centrality\n",
    "        t1 = time()\n",
    "        max_eigen = find_all_argmax(nx.eigenvector_centrality_numpy(G))\n",
    "        print(\"Eigen calc time \", time()-t1)\n",
    "        print(\"Edges \", G.number_of_edges())\n",
    "        if len(max_eigen) > 1 or len(max_deg_vertices & max_eigen)>0 or len(max_betw & max_eigen)>0 or len(max_harm & max_eigen) > 0:\n",
    "            continue\n",
    "        metrics -=1\n",
    "\n",
    "        if (metrics == 0):\n",
    "            return G\n",
    "\n",
    "    return None\n"
   ]
  },
  {
   "cell_type": "code",
   "execution_count": 36,
   "metadata": {
    "collapsed": true
   },
   "outputs": [],
   "source": [
    "def graph_draw(G):\n",
    "    if (G):\n",
    "        print(\"Graph exist\")\n",
    "        print(\"Degree\")\n",
    "        print(nx.degree(G))\n",
    "        print(\"Betwenness\")\n",
    "        print(nx.betweenness_centrality(G))\n",
    "        print(\"Eigen\")\n",
    "        print(nx.eigenvector_centrality_numpy(G))\n",
    "        \n",
    "        print(\"Harmonic\")\n",
    "        print(nx.harmonic_centrality(G))\n",
    "        nx.draw_networkx(G)\n",
    "    else:\n",
    "        print(\"Graph doesn't exist\")"
   ]
  },
  {
   "cell_type": "code",
   "execution_count": 31,
   "metadata": {},
   "outputs": [
    {
     "name": "stdout",
     "output_type": "stream",
     "text": [
      "Generating with degree distibution\n",
      "Generation finished in  6.571873903274536\n",
      "Runing graphs  33736\n",
      "Graph doesn't exist\n"
     ]
    }
   ],
   "source": [
    "G = find_graph(11, 4)\n",
    "graph_draw(G)"
   ]
  },
  {
   "cell_type": "code",
   "execution_count": null,
   "metadata": {
    "collapsed": true
   },
   "outputs": [],
   "source": []
  },
  {
   "cell_type": "code",
   "execution_count": 221,
   "metadata": {},
   "outputs": [
    {
     "name": "stdout",
     "output_type": "stream",
     "text": [
      "Generating with degree distibution\n",
      "Generation finished in  0.07941651344299316\n",
      "Runing graphs  445\n",
      "Graph doesn't exist\n"
     ]
    }
   ],
   "source": [
    "G = find_graph(11, 4)\n",
    "graph_draw(G)"
   ]
  },
  {
   "cell_type": "code",
   "execution_count": null,
   "metadata": {
    "collapsed": true
   },
   "outputs": [],
   "source": []
  },
  {
   "cell_type": "code",
   "execution_count": 12,
   "metadata": {},
   "outputs": [
    {
     "name": "stdout",
     "output_type": "stream",
     "text": [
      "Generating graphs\n",
      "Runing graphs  100000\n",
      "Eigen calc time  0.0015976428985595703\n",
      "Edges  12\n",
      "Eigen calc time  0.0013306140899658203\n",
      "Edges  14\n",
      "Eigen calc time  0.001416921615600586\n",
      "Edges  14\n",
      "Eigen calc time  0.0013775825500488281\n",
      "Edges  13\n",
      "Eigen calc time  0.0014579296112060547\n",
      "Edges  17\n",
      "Eigen calc time  0.0013623237609863281\n",
      "Edges  14\n",
      "Eigen calc time  0.0013654232025146484\n",
      "Edges  13\n",
      "Eigen calc time  0.0013418197631835938\n",
      "Edges  17\n",
      "Eigen calc time  0.0014443397521972656\n",
      "Edges  12\n",
      "Eigen calc time  0.0014407634735107422\n",
      "Edges  13\n",
      "Eigen calc time  0.0014104843139648438\n",
      "Edges  16\n",
      "Eigen calc time  0.0013852119445800781\n",
      "Edges  13\n",
      "Eigen calc time  0.0013573169708251953\n",
      "Edges  15\n",
      "Eigen calc time  0.0014469623565673828\n",
      "Edges  12\n",
      "Eigen calc time  0.0013620853424072266\n",
      "Edges  14\n",
      "Eigen calc time  0.0013158321380615234\n",
      "Edges  12\n",
      "Eigen calc time  0.0014126300811767578\n",
      "Edges  13\n",
      "Eigen calc time  0.0013511180877685547\n",
      "Edges  15\n",
      "Eigen calc time  0.0015003681182861328\n",
      "Edges  16\n",
      "Eigen calc time  0.001369476318359375\n",
      "Edges  14\n",
      "Eigen calc time  0.0013251304626464844\n",
      "Edges  12\n",
      "Eigen calc time  0.0013911724090576172\n",
      "Edges  14\n",
      "Eigen calc time  0.0015003681182861328\n",
      "Edges  18\n",
      "Eigen calc time  0.0013546943664550781\n",
      "Edges  14\n",
      "Eigen calc time  0.001341104507446289\n",
      "Edges  12\n",
      "Eigen calc time  0.0011715888977050781\n",
      "Edges  13\n",
      "Eigen calc time  0.0017955303192138672\n",
      "Edges  13\n",
      "Eigen calc time  0.0014777183532714844\n",
      "Edges  20\n",
      "Eigen calc time  0.0013897418975830078\n",
      "Edges  14\n",
      "Eigen calc time  0.0015189647674560547\n",
      "Edges  13\n",
      "Eigen calc time  0.0014111995697021484\n",
      "Edges  15\n",
      "Eigen calc time  0.0013439655303955078\n",
      "Edges  14\n",
      "Eigen calc time  0.0014348030090332031\n",
      "Edges  12\n",
      "Eigen calc time  0.0013492107391357422\n",
      "Edges  12\n",
      "Eigen calc time  0.0013396739959716797\n",
      "Edges  13\n",
      "Eigen calc time  0.0015270709991455078\n",
      "Edges  13\n",
      "Eigen calc time  0.0014064311981201172\n",
      "Edges  15\n",
      "Eigen calc time  0.0013370513916015625\n",
      "Edges  11\n",
      "Eigen calc time  0.0013117790222167969\n",
      "Edges  14\n",
      "Eigen calc time  0.0013442039489746094\n",
      "Edges  14\n",
      "Eigen calc time  0.0016827583312988281\n",
      "Edges  18\n",
      "Graph exist\n",
      "Degree\n",
      "{0: 2, 1: 4, 2: 3, 3: 3, 4: 2, 5: 2, 6: 1, 7: 4, 8: 3, 9: 4, 10: 3, 11: 5}\n",
      "Betwenness\n",
      "{0: 0.0, 1: 0.20606060606060606, 2: 0.07727272727272727, 3: 0.10454545454545455, 4: 0.04545454545454544, 5: 0.05303030303030302, 6: 0.0, 7: 0.17424242424242425, 8: 0.17424242424242425, 9: 0.3, 10: 0.04090909090909091, 11: 0.2787878787878788}\n",
      "Eigen\n",
      "{0: 0.2559147022452188, 1: 0.43427147365150015, 2: 0.2078752164525357, 3: 0.17932216982601276, 4: 0.15492975910068615, 5: 0.1972705038622015, 6: 0.12658383169084533, 7: 0.4380336575275106, 8: 0.23941029250746226, 9: 0.3646703000765466, 10: 0.16006481341824785, 11: 0.42872964932279123}\n"
     ]
    },
    {
     "data": {
      "image/png": "[encoded data removed]",
      "text/plain": [
       "<matplotlib.figure.Figure at 0x7f4baf11c0b8>"
      ]
     },
     "metadata": {},
     "output_type": "display_data"
    }
   ],
   "source": [
    "G = find_graph(12, 4)\n",
    "graph_draw(G)"
   ]
  },
  {
   "cell_type": "code",
   "execution_count": 35,
   "metadata": {},
   "outputs": [
    {
     "name": "stdout",
     "output_type": "stream",
     "text": [
      "Generating graphs\n",
      "Runing graphs  100000\n",
      "Eigen calc time  0.0017154216766357422\n",
      "Edges  13\n",
      "Eigen calc time  0.0013942718505859375\n",
      "Edges  13\n",
      "Eigen calc time  0.0014562606811523438\n",
      "Edges  13\n",
      "Eigen calc time  0.0013620853424072266\n",
      "Edges  13\n",
      "Eigen calc time  0.0016796588897705078\n",
      "Edges  18\n",
      "Eigen calc time  0.001505136489868164\n",
      "Edges  19\n",
      "Eigen calc time  0.0014166831970214844\n",
      "Edges  12\n",
      "Eigen calc time  0.001367330551147461\n",
      "Edges  13\n",
      "Eigen calc time  0.001346588134765625\n",
      "Edges  13\n",
      "Eigen calc time  0.0015010833740234375\n",
      "Edges  15\n",
      "Eigen calc time  0.0015451908111572266\n",
      "Edges  13\n",
      "Eigen calc time  0.00138092041015625\n",
      "Edges  12\n",
      "Eigen calc time  0.0013515949249267578\n",
      "Edges  13\n",
      "Eigen calc time  0.0013670921325683594\n",
      "Edges  12\n",
      "Eigen calc time  0.0013833045959472656\n",
      "Edges  12\n",
      "Eigen calc time  0.0013718605041503906\n",
      "Edges  13\n",
      "Eigen calc time  0.0013186931610107422\n",
      "Edges  14\n",
      "Eigen calc time  0.0013544559478759766\n",
      "Edges  14\n",
      "Graph exist\n",
      "Degree\n",
      "{0: 1, 1: 3, 2: 3, 3: 2, 4: 1, 5: 1, 6: 3, 7: 3, 8: 2, 9: 4, 10: 3, 11: 2}\n",
      "Betwenness\n",
      "{0: 0.0, 1: 0.3757575757575757, 2: 0.3151515151515151, 3: 0.1212121212121212, 4: 0.0, 5: 0.0, 6: 0.11515151515151516, 7: 0.18181818181818182, 8: 0.12727272727272726, 9: 0.36969696969696975, 10: 0.32121212121212117, 11: 0.09090909090909091}\n",
      "Eigen\n",
      "{0: 0.12816524324968387, 1: 0.3857160720778833, 2: 0.4107803599072027, 3: 0.21242801266009134, 4: 0.12145105271105971, 5: 0.12145105271105971, 6: 0.3647212679170245, 7: 0.34032144268010595, 8: 0.26671193846030905, 9: 0.322493028731074, 10: 0.346712445337624, 11: 0.21735473778558417}\n"
     ]
    },
    {
     "data": {
      "image/png": "[encoded data removed]",
      "text/plain": [
       "<matplotlib.figure.Figure at 0x7f4bf79bd240>"
      ]
     },
     "metadata": {},
     "output_type": "display_data"
    }
   ],
   "source": [
    "G = find_graph(12, 4)\n",
    "graph_draw(G)"
   ]
  },
  {
   "cell_type": "code",
   "execution_count": 37,
   "metadata": {},
   "outputs": [
    {
     "data": {
      "text/plain": [
       "{0: 3.9500000000000006,\n",
       " 1: 6.333333333333333,\n",
       " 2: 6.166666666666666,\n",
       " 3: 5.416666666666667,\n",
       " 4: 4.233333333333333,\n",
       " 5: 4.233333333333333,\n",
       " 6: 5.816666666666666,\n",
       " 7: 5.65,\n",
       " 8: 5.5,\n",
       " 9: 6.366666666666666,\n",
       " 10: 6.416666666666666,\n",
       " 11: 5.249999999999999}"
      ]
     },
     "execution_count": 37,
     "metadata": {},
     "output_type": "execute_result"
    }
   ],
   "source": [
    "nx.harmonic_centrality(G)"
   ]
  },
  {
   "cell_type": "code",
   "execution_count": 135,
   "metadata": {},
   "outputs": [
    {
     "name": "stdout",
     "output_type": "stream",
     "text": [
      "Generating graphs\n",
      "Runing graphs  100000\n",
      "Eigen calc time  0.0013191699981689453\n",
      "Edges  13\n",
      "Eigen calc time  0.0012788772583007812\n",
      "Edges  12\n",
      "Eigen calc time  0.0013158321380615234\n",
      "Edges  14\n",
      "Eigen calc time  0.0012962818145751953\n",
      "Edges  14\n",
      "Eigen calc time  0.0012483596801757812\n",
      "Edges  17\n",
      "Eigen calc time  0.0012946128845214844\n",
      "Edges  16\n",
      "Eigen calc time  0.0013060569763183594\n",
      "Edges  16\n",
      "Eigen calc time  0.0012888908386230469\n",
      "Edges  12\n",
      "Eigen calc time  0.0011126995086669922\n",
      "Edges  11\n",
      "Eigen calc time  0.0012984275817871094\n",
      "Edges  14\n",
      "Eigen calc time  0.0012996196746826172\n",
      "Edges  17\n",
      "Eigen calc time  0.0013155937194824219\n",
      "Edges  13\n",
      "Eigen calc time  0.0012996196746826172\n",
      "Edges  15\n",
      "Eigen calc time  0.0014090538024902344\n",
      "Edges  12\n",
      "Eigen calc time  0.0012912750244140625\n",
      "Edges  13\n",
      "Eigen calc time  0.0012753009796142578\n",
      "Edges  12\n",
      "Eigen calc time  0.0012938976287841797\n",
      "Edges  12\n",
      "Eigen calc time  0.001268625259399414\n",
      "Edges  12\n",
      "Graph doesn't exist\n"
     ]
    }
   ],
   "source": [
    "G = find_graph(11, 4)\n",
    "graph_draw(G)"
   ]
  }
 ],
 "metadata": {
  "kernelspec": {
   "display_name": "Python 3",
   "language": "python",
   "name": "python3"
  },
  "language_info": {
   "codemirror_mode": {
    "name": "ipython",
    "version": 3
   },
   "file_extension": ".py",
   "mimetype": "text/x-python",
   "name": "python",
   "nbconvert_exporter": "python",
   "pygments_lexer": "ipython3",
   "version": "3.5.2"
  }
 },
 "nbformat": 4,
 "nbformat_minor": 2
}
